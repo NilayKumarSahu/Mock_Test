{
 "cells": [
  {
   "cell_type": "code",
   "execution_count": 1,
   "id": "7cf9980d-77a7-4d61-b97e-5c7e215e2d30",
   "metadata": {},
   "outputs": [
    {
     "data": {
      "text/plain": [
       "[2, 4, 6, 8, 10]"
      ]
     },
     "execution_count": 1,
     "metadata": {},
     "output_type": "execute_result"
    }
   ],
   "source": [
    "'''17. Write a function that takes a list of numbers as input and returns a new list containing only the even numbers from the input list.\n",
    "Use list comprehension to solve this problem.\n",
    "\n",
    "Example:\n",
    "\n",
    "Input: [1, 2, 3, 4, 5, 6, 7, 8, 9, 10]\n",
    "\n",
    "Output: [2, 4, 6, 8, 10]'''\n",
    "\n",
    "\n",
    "def even_extractor(List):\n",
    "    even = []\n",
    "    if type(List)== list:\n",
    "        if len(List)!=0:\n",
    "            for i in List:\n",
    "                if i%2 ==0:\n",
    "                    even.append(i)\n",
    "        else:\n",
    "            raise Exception(\"Empty List was entered.\")\n",
    "    else:\n",
    "        raise Exception(\"Please input a list.\")\n",
    "    return even            \n",
    "            \n",
    "\n",
    "\n",
    "List = [1, 2, 3, 4, 5, 6, 7, 8, 9, 10]            \n",
    "even_extractor(List)    "
   ]
  },
  {
   "cell_type": "code",
   "execution_count": 2,
   "id": "fd21b9cf-b81c-4b6d-a3b7-48acf4fe8344",
   "metadata": {},
   "outputs": [
    {
     "name": "stdout",
     "output_type": "stream",
     "text": [
      "Execution time: 2.00017 seconds\n"
     ]
    }
   ],
   "source": [
    "'''18. Implement a decorator function called ‘timer’ that measures the execution time of a function. \n",
    "The ‘timer’ decorator should print the time taken by the decorated function to execute. \n",
    "Use the ‘time’ module in Python to calculate the execution time.\n",
    "\n",
    "Example:\n",
    "\n",
    "import time\n",
    "\n",
    "@timer\n",
    "def my_function():\n",
    "    # Function code goes here\n",
    "    time.sleep(2)\n",
    "\n",
    "my_function()\n",
    "\n",
    "Output:\n",
    "\"Execution time: 2.00123 seconds\"'''\n",
    "\n",
    "import time\n",
    "\n",
    "def timer(ent):\n",
    "    def my_time(*args):\n",
    "        start_time = time.time()\n",
    "        result = ent(*args)\n",
    "        end_time = time.time()\n",
    "        execution_time = end_time - start_time\n",
    "        print(f\"Execution time: {execution_time:.5f} seconds\")#.5f returns values in 5 decimal places\n",
    "        return result\n",
    "    return my_time\n",
    "\n",
    "\n",
    "import time\n",
    "\n",
    "@timer\n",
    "def my_function():\n",
    "    # Function code goes here\n",
    "    time.sleep(2)\n",
    "\n",
    "my_function()"
   ]
  },
  {
   "cell_type": "code",
   "execution_count": 3,
   "id": "337d05b5-862e-4277-bae9-4b6e53baed8a",
   "metadata": {},
   "outputs": [
    {
     "name": "stdout",
     "output_type": "stream",
     "text": [
      "Mean: 20.0\n"
     ]
    }
   ],
   "source": [
    "'''19. Write a function called ‘calculate_mean’ that takes a list of numbers as input and returns the mean (average) of the numbers. \n",
    "The function should calculate the mean using the sum of the numbers divided by the total count.\n",
    "\n",
    "Example:\n",
    "\n",
    "def calculate_mean(numbers):\n",
    "    total = sum(numbers)\n",
    "    count = len(numbers)\n",
    "    mean = total / count\n",
    "    return mean\n",
    "\n",
    "data = [10, 15, 20, 25, 30]\n",
    "mean_value = calculate_mean(data)\n",
    "print(\"Mean:\", mean_value)\n",
    "\n",
    "Output:\n",
    "Mean: 20.0'''\n",
    "\n",
    "def calculate_mean(List):\n",
    "    if type(List)== list:\n",
    "        if len(List)!=0:\n",
    "            Sum = sum(List)\n",
    "            count = len(List)\n",
    "            mean = Sum / count\n",
    "        else:\n",
    "            raise Exception(\"Empty List was entered.\")\n",
    "    else:\n",
    "        raise Exception(\"Please input a list.\")\n",
    "    return mean\n",
    "\n",
    "data = [10, 15, 20, 25, 30]\n",
    "mean_value = calculate_mean(data)\n",
    "print(\"Mean:\", mean_value)\n"
   ]
  },
  {
   "cell_type": "code",
   "execution_count": 4,
   "id": "8a471a73-abf9-49d1-8615-1609e3a5f65e",
   "metadata": {},
   "outputs": [
    {
     "name": "stdout",
     "output_type": "stream",
     "text": [
      "P-value: 0.09434977284243756\n"
     ]
    }
   ],
   "source": [
    "'''20. Write a function called ‘perform_hypothesis_test’ that takes two lists of numbers as input, representing two samples. \n",
    "The function should perform a two-sample t-test and return the p-value. Use the ‘scipy.stats’ module in Python to calculate \n",
    "the t-test and p-value.\n",
    "\n",
    "Example:\n",
    "\n",
    "from scipy import stats\n",
    "\n",
    "def perform_hypothesis_test(sample1, sample2):\n",
    "    t_statistic, p_value = stats.ttest_ind(sample1, sample2)\n",
    "    return p_value\n",
    "\n",
    "sample1 = [5, 10, 15, 20, 25]\n",
    "sample2 = [10, 20, 30, 40, 50]\n",
    "p_value = perform_hypothesis_test(sample1, sample2)\n",
    "print(\"P-value:\", p_value)\n",
    "\n",
    "Output:\n",
    "P-value: 0.1064706396450037'''\n",
    "\n",
    "\n",
    "from scipy import stats\n",
    "\n",
    "def perform_hypothesis_test(List1, List2):\n",
    "    if type(List1) and type(List2)== list:\n",
    "        if len(List1) and len(List2)!=0:\n",
    "            statistic, p_value = stats.ttest_ind(List1, List2)\n",
    "\n",
    "        else:\n",
    "            raise Exception(\"Empty List was entered.\")\n",
    "    else:\n",
    "        raise Exception(\"Please input a list.\")\n",
    "    return p_value\n",
    "\n",
    "sample1 = [5, 10, 15, 20, 25]\n",
    "sample2 = [10, 20, 30, 40, 50]\n",
    "p_value = perform_hypothesis_test(sample1, sample2)\n",
    "print(\"P-value:\", p_value)"
   ]
  },
  {
   "cell_type": "code",
   "execution_count": null,
   "id": "c30a4073-0bc0-416f-a175-09c8abe7ad76",
   "metadata": {},
   "outputs": [],
   "source": []
  }
 ],
 "metadata": {
  "kernelspec": {
   "display_name": "Python 3 (ipykernel)",
   "language": "python",
   "name": "python3"
  },
  "language_info": {
   "codemirror_mode": {
    "name": "ipython",
    "version": 3
   },
   "file_extension": ".py",
   "mimetype": "text/x-python",
   "name": "python",
   "nbconvert_exporter": "python",
   "pygments_lexer": "ipython3",
   "version": "3.10.6"
  }
 },
 "nbformat": 4,
 "nbformat_minor": 5
}
